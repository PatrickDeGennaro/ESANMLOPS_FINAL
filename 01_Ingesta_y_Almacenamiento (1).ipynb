{
 "cells": [
  {
   "cell_type": "markdown",
   "metadata": {
    "application/vnd.databricks.v1+cell": {
     "cellMetadata": {},
     "inputWidgets": {},
     "nuid": "bc90e8d1-e4f9-4228-ad1e-5a481d94798f",
     "showTitle": false,
     "tableResultSettingsMap": {},
     "title": ""
    }
   },
   "source": [
    "### **Ingesta y Almacenamiento de Datos**\n",
    "\n",
    "Este notebook forma parte del trabajo final del curso de MLOps  y cubre la etapa de ingesta y almacenamiento de datos, un paso fundamental en la construcción de un pipeline de Machine Learning.\n",
    "\n",
    "En este proceso, primero se carga un dataset de minería en formato **CSV** desde **Databricks FileStore (DBFS)** y se transforma en un **DataFrame de Apache Spark** para su procesamiento. Luego, se almacena en **formato Delta**, lo que permite un acceso más eficiente a los datos y facilita su versionado para futuras actualizaciones.\n",
    "\n",
    "Finalmente, se valida la carga de datos consultando el contenido almacenado en **DBFS**, asegurando que la ingesta se haya realizado correctamente y que los datos estén disponibles para su uso en las siguientes etapas del pipeline de MLOps.\n",
    "\n",
    "<style>\n",
    "    p { text-align: justify; }\n",
    "</style>"
   ]
  },
  {
   "cell_type": "markdown",
   "metadata": {
    "application/vnd.databricks.v1+cell": {
     "cellMetadata": {},
     "inputWidgets": {},
     "nuid": "65929aaf-62ea-46b1-a81f-016e26178b6e",
     "showTitle": false,
     "tableResultSettingsMap": {},
     "title": ""
    }
   },
   "source": [
    "### 1. Inicialización del entorno en Databricks\n",
    "Se inicia una sesión de Apache Spark en Databricks, lo que permitirá trabajar con grandes volúmenes de datos de manera distribuida. Luego, se define la ruta del archivo CSV con los datos de minería y se carga en un DataFrame de Spark para su procesamiento."
   ]
  },
  {
   "cell_type": "code",
   "execution_count": 0,
   "metadata": {
    "application/vnd.databricks.v1+cell": {
     "cellMetadata": {
      "byteLimit": 2048000,
      "rowLimit": 10000
     },
     "inputWidgets": {},
     "nuid": "a591a7e3-0a70-45a6-ae00-7434b76309d0",
     "showTitle": false,
     "tableResultSettingsMap": {},
     "title": ""
    }
   },
   "outputs": [
    {
     "output_type": "stream",
     "name": "stdout",
     "output_type": "stream",
     "text": [
      "+-----------------+------------+------------------+-----------------+-------------------------+-----------------+--------------------+--------------+----------+----+------------+-----------------+------------------+\n|Accident_Occurred|Hours_Worked|Weather_Risk_Index|Machine_Age_Years|Employee_Experience_Years|Safety_Violations|Inspection_Frequency|Job_Risk_Level|Shift_Type|Area|Employee_Age|   Noise_Level_dB|     Temperature_C|\n+-----------------+------------+------------------+-----------------+-------------------------+-----------------+--------------------+--------------+----------+----+------------+-----------------+------------------+\n|                0|          10|0.5531357998742017|               19|                       17|                9|                  10|             1|         0|   0|          49|  63.052767719262|28.754187658419617|\n|                1|          10|0.9207611469737159|                3|                        8|                5|                   1|             3|         0|   0|          30| 76.2162491620035|19.903126766521012|\n|                0|           9|0.5101818248993456|                6|                       29|                4|                   1|             1|         0|   1|          21|57.32387774573401|  16.7417915833722|\n|                1|           7| 0.773202607027518|               17|                        7|                3|                   3|             1|         1|   1|          53|87.84505062812758|11.133169553986972|\n|                0|           7|0.5385727735326302|               16|                       13|                2|                   4|             2|         0|   0|          57|94.20408501525752| 18.61605656257878|\n+-----------------+------------+------------------+-----------------+-------------------------+-----------------+--------------------+--------------+----------+----+------------+-----------------+------------------+\nonly showing top 5 rows\n"
     ]
    }
   ],
   "source": [
    "from pyspark.sql import SparkSession\n",
    "\n",
    "# Iniciar sesión de Spark\n",
    "spark = SparkSession.builder.appName(\"MiningMLProject\").getOrCreate()\n",
    "\n",
    "# Ruta del archivo CSV correcto\n",
    "file_path = \"dbfs:/FileStore/tables/Enhanced_Synthetic_Mining_Data-2.csv\"\n",
    "\n",
    "# Cargar el CSV en un DataFrame de Spark\n",
    "df_spark = spark.read.csv(file_path, header=True, inferSchema=True)\n",
    "\n",
    "# Mostrar las primeras filas\n",
    "df_spark.show(5)\n"
   ]
  },
  {
   "cell_type": "markdown",
   "metadata": {
    "application/vnd.databricks.v1+cell": {
     "cellMetadata": {},
     "inputWidgets": {},
     "nuid": "cf593ebc-7fd0-41fe-ae76-80fb8723e497",
     "showTitle": false,
     "tableResultSettingsMap": {},
     "title": ""
    }
   },
   "source": [
    "### 2. Almacenamiento en formato Delta\n",
    "Se almacena el DataFrame en formato Delta, un estándar optimizado para Databricks que permite versiones de los datos, consultas más rápidas y manejo eficiente de actualizaciones.\n"
   ]
  },
  {
   "cell_type": "code",
   "execution_count": 0,
   "metadata": {
    "application/vnd.databricks.v1+cell": {
     "cellMetadata": {
      "byteLimit": 2048000,
      "rowLimit": 10000
     },
     "inputWidgets": {},
     "nuid": "3a55454f-0007-40b2-a598-82bfac0fac37",
     "showTitle": false,
     "tableResultSettingsMap": {},
     "title": ""
    }
   },
   "outputs": [
    {
     "output_type": "stream",
     "name": "stdout",
     "output_type": "stream",
     "text": [
      "Tabla guardada en: dbfs:/mnt/delta/mining_data\n"
     ]
    }
   ],
   "source": [
    "# Definir la ubicación en DBFS\n",
    "delta_path = \"dbfs:/mnt/delta/mining_data\"\n",
    "\n",
    "# Guardar el DataFrame en formato Delta\n",
    "df_spark.write.format(\"delta\").mode(\"overwrite\").save(delta_path)\n",
    "\n",
    "# Confirmación\n",
    "print(f\"Tabla guardada en: {delta_path}\")\n"
   ]
  },
  {
   "cell_type": "markdown",
   "metadata": {
    "application/vnd.databricks.v1+cell": {
     "cellMetadata": {},
     "inputWidgets": {},
     "nuid": "0a96cf9b-bbe0-4ed3-8330-d2a828bcd48c",
     "showTitle": false,
     "tableResultSettingsMap": {},
     "title": ""
    }
   },
   "source": [
    "### 3. Carga y validación de los datos almacenados\n",
    "Para asegurarse de que los datos fueron correctamente almacenados en formato Delta, se los vuelve a cargar y se visualizan algunas filas."
   ]
  },
  {
   "cell_type": "code",
   "execution_count": 0,
   "metadata": {
    "application/vnd.databricks.v1+cell": {
     "cellMetadata": {
      "byteLimit": 2048000,
      "rowLimit": 10000
     },
     "inputWidgets": {},
     "nuid": "6affb107-2fc2-438a-857a-2c15608e6ce4",
     "showTitle": false,
     "tableResultSettingsMap": {},
     "title": ""
    }
   },
   "outputs": [
    {
     "output_type": "stream",
     "name": "stdout",
     "output_type": "stream",
     "text": [
      "+-----------------+------------+------------------+-----------------+-------------------------+-----------------+--------------------+--------------+----------+----+------------+-----------------+------------------+\n|Accident_Occurred|Hours_Worked|Weather_Risk_Index|Machine_Age_Years|Employee_Experience_Years|Safety_Violations|Inspection_Frequency|Job_Risk_Level|Shift_Type|Area|Employee_Age|   Noise_Level_dB|     Temperature_C|\n+-----------------+------------+------------------+-----------------+-------------------------+-----------------+--------------------+--------------+----------+----+------------+-----------------+------------------+\n|                0|          10|0.5531357998742017|               19|                       17|                9|                  10|             1|         0|   0|          49|  63.052767719262|28.754187658419617|\n|                1|          10|0.9207611469737159|                3|                        8|                5|                   1|             3|         0|   0|          30| 76.2162491620035|19.903126766521012|\n|                0|           9|0.5101818248993456|                6|                       29|                4|                   1|             1|         0|   1|          21|57.32387774573401|  16.7417915833722|\n|                1|           7| 0.773202607027518|               17|                        7|                3|                   3|             1|         1|   1|          53|87.84505062812758|11.133169553986972|\n|                0|           7|0.5385727735326302|               16|                       13|                2|                   4|             2|         0|   0|          57|94.20408501525752| 18.61605656257878|\n+-----------------+------------+------------------+-----------------+-------------------------+-----------------+--------------------+--------------+----------+----+------------+-----------------+------------------+\nonly showing top 5 rows\n"
     ]
    }
   ],
   "source": [
    "df_spark_loaded = spark.read.format(\"delta\").load(\"dbfs:/mnt/delta/mining_data\")\n",
    "df_spark_loaded.show(5)\n"
   ]
  }
 ],
 "metadata": {
  "application/vnd.databricks.v1+notebook": {
   "computePreferences": null,
   "dashboards": [],
   "environmentMetadata": {
    "base_environment": "",
    "environment_version": "2"
   },
   "language": "python",
   "notebookMetadata": {
    "mostRecentlyExecutedCommandWithImplicitDF": {
     "commandId": 6853339554501494,
     "dataframes": [
      "_sqldf"
     ]
    },
    "pythonIndentUnit": 4
   },
   "notebookName": "01_Ingesta_y_Almacenamiento",
   "widgets": {}
  },
  "language_info": {
   "name": "python"
  }
 },
 "nbformat": 4,
 "nbformat_minor": 0
}