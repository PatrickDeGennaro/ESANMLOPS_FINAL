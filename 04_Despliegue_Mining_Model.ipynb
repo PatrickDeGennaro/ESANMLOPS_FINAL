{
 "cells": [
  {
   "cell_type": "markdown",
   "metadata": {
    "application/vnd.databricks.v1+cell": {
     "cellMetadata": {},
     "inputWidgets": {},
     "nuid": "ed5ca1a6-6a11-4e4c-a1da-c29137fc5e56",
     "showTitle": false,
     "tableResultSettingsMap": {},
     "title": ""
    }
   },
   "source": [
    "### Despliegue del Modelo en Databricks con MLflow\n",
    "\n",
    "Este notebook forma parte del trabajo final del curso de MLOps  y se centra en la fase de **despliegue** del modelo de predicción de accidentes en minería.\n",
    "\n",
    "El objetivo es cargar el modelo previamente entrenado y registrado en **MLflow**, para luego realizar pruebas de inferencia antes de su integración en un entorno productivo.  \n",
    "El flujo de trabajo incluye:\n",
    "\n",
    "- **Carga del modelo desde MLflow Model Registry**, utilizando una versión específica o la última versión en **Production**.\n",
    "- **Ejecución de inferencias locales** sobre datos de prueba, validando la correcta aplicación del modelo antes del despliegue definitivo.\n",
    "\n",
    "Este proceso es fundamental en **MLOps**, ya que permite asegurar que el modelo puede realizar predicciones de manera confiable antes de ser utilizado en entornos de producción.\n",
    "\n",
    "<style>\n",
    "    p { text-align: justify; }\n",
    "</style>\n"
   ]
  },
  {
   "cell_type": "markdown",
   "metadata": {
    "application/vnd.databricks.v1+cell": {
     "cellMetadata": {},
     "inputWidgets": {},
     "nuid": "670edac5-d638-431a-aa14-38b2dd03f7d0",
     "showTitle": false,
     "tableResultSettingsMap": {},
     "title": ""
    }
   },
   "source": [
    "### 1. Importación de librerías y configuración del entorno\n",
    "Se importan las librerías necesarias para la ejecución del notebook, incluyendo MLflow para la gestión del modelo y Apache Spark para la manipulación de datos. Se inicia la sesión de Spark y se muestra un mensaje de inicio"
   ]
  },
  {
   "cell_type": "code",
   "execution_count": 0,
   "metadata": {
    "application/vnd.databricks.v1+cell": {
     "cellMetadata": {
      "byteLimit": 2048000,
      "rowLimit": 10000
     },
     "inputWidgets": {},
     "nuid": "a980790a-8461-49c4-8802-c9cf60ed5136",
     "showTitle": false,
     "tableResultSettingsMap": {},
     "title": ""
    }
   },
   "outputs": [
    {
     "output_type": "stream",
     "name": "stdout",
     "output_type": "stream",
     "text": [
      "Notebook 04: Despliegue - Iniciando...\n"
     ]
    }
   ],
   "source": [
    "# Paso 1: Importar librerías\n",
    "import mlflow\n",
    "import mlflow.spark\n",
    "import pandas as pd\n",
    "\n",
    "from pyspark.sql import SparkSession\n",
    "\n",
    "spark = SparkSession.builder.getOrCreate()\n",
    "print(\"Notebook 04: Despliegue - Iniciando...\")\n"
   ]
  },
  {
   "cell_type": "markdown",
   "metadata": {
    "application/vnd.databricks.v1+cell": {
     "cellMetadata": {},
     "inputWidgets": {},
     "nuid": "3dcc3659-802f-4568-aae0-b8a9f8435a83",
     "showTitle": false,
     "tableResultSettingsMap": {},
     "title": ""
    }
   },
   "source": [
    "### 2. Carga del modelo registrado en MLflow\n",
    "Se carga el modelo registrado en MLflow Model Registry para realizar predicciones en un entorno de despliegue. Dependiendo del estado del modelo en MLflow, se puede cargar una versión específica o la última promovida a Production."
   ]
  },
  {
   "cell_type": "code",
   "execution_count": 0,
   "metadata": {
    "application/vnd.databricks.v1+cell": {
     "cellMetadata": {
      "byteLimit": 2048000,
      "rowLimit": 10000
     },
     "inputWidgets": {},
     "nuid": "6caab243-6307-4534-97e3-5999a32eefd9",
     "showTitle": false,
     "tableResultSettingsMap": {},
     "title": ""
    }
   },
   "outputs": [
    {
     "output_type": "stream",
     "name": "stderr",
     "output_type": "stream",
     "text": [
      "2025/03/04 13:26:44 INFO mlflow.spark: 'models:/AccidentPrediction2025/1' resolved as 'abfss://unity-catalog-storage@dbstorageyp3hv5lr3xzh6.dfs.core.windows.net/1781258311325241/models/f0b5bfa6-b545-4a3a-8f96-eddccdc04e61/versions/74acc5b5-5c4b-414d-b811-03fa453d36b7'\n"
     ]
    },
    {
     "output_type": "stream",
     "name": "stdout",
     "output_type": "stream",
     "text": [
      "Modelo cargado desde URI: models:/AccidentPrediction2025/1\n"
     ]
    }
   ],
   "source": [
    "# Paso 2: Cargar el modelo registrado desde MLflow\n",
    "model_uri = \"models:/AccidentPrediction2025/1\"\n",
    "\n",
    "# Cargamos la pipeline Spark\n",
    "pipeline_model = mlflow.spark.load_model(model_uri)\n",
    "\n",
    "print(f\"Modelo cargado desde URI: {model_uri}\")\n"
   ]
  },
  {
   "cell_type": "markdown",
   "metadata": {
    "application/vnd.databricks.v1+cell": {
     "cellMetadata": {},
     "inputWidgets": {},
     "nuid": "f3328747-a5d0-48a6-b7f5-1fb30f6ce80c",
     "showTitle": false,
     "tableResultSettingsMap": {},
     "title": ""
    }
   },
   "source": [
    "### 3. Inferencia local con Spark DataFrame\n",
    "Se prueba el modelo cargado en un conjunto de datos de prueba construido manualmente. El objetivo es validar que el modelo puede realizar predicciones correctamente antes de desplegarlo en un entorno real."
   ]
  },
  {
   "cell_type": "code",
   "execution_count": 0,
   "metadata": {
    "application/vnd.databricks.v1+cell": {
     "cellMetadata": {
      "byteLimit": 2048000,
      "rowLimit": 10000
     },
     "inputWidgets": {},
     "nuid": "c8a38bc2-3734-486a-a3ef-40440fdd1023",
     "showTitle": false,
     "tableResultSettingsMap": {},
     "title": ""
    }
   },
   "outputs": [
    {
     "output_type": "stream",
     "name": "stdout",
     "output_type": "stream",
     "text": [
      "DataFrame de prueba local:\n"
     ]
    },
    {
     "output_type": "display_data",
     "data": {
      "text/html": [
       "<style scoped>\n",
       "  .table-result-container {\n",
       "    max-height: 300px;\n",
       "    overflow: auto;\n",
       "  }\n",
       "  table, th, td {\n",
       "    border: 1px solid black;\n",
       "    border-collapse: collapse;\n",
       "  }\n",
       "  th, td {\n",
       "    padding: 5px;\n",
       "  }\n",
       "  th {\n",
       "    text-align: left;\n",
       "  }\n",
       "</style><div class='table-result-container'><table class='table-result'><thead style='background-color: white'><tr><th>Shift_Type</th><th>Weather_Risk_Index</th><th>Job_Risk_Level</th><th>Hours_Worked</th><th>Employee_Experience_Years</th><th>Safety_Violations</th><th>Inspection_Frequency</th><th>Temperature_C</th></tr></thead><tbody><tr><td>1.0</td><td>3.5</td><td>2.0</td><td>8.0</td><td>5.0</td><td>0.0</td><td>3.0</td><td>25.0</td></tr><tr><td>2.0</td><td>1.5</td><td>1.0</td><td>10.0</td><td>2.0</td><td>1.0</td><td>2.0</td><td>15.0</td></tr><tr><td>3.0</td><td>4.5</td><td>3.0</td><td>6.0</td><td>8.0</td><td>2.0</td><td>4.0</td><td>20.0</td></tr></tbody></table></div>"
      ]
     },
     "metadata": {
      "application/vnd.databricks.v1+output": {
       "addedWidgets": {},
       "aggData": [],
       "aggError": "",
       "aggOverflow": false,
       "aggSchema": [],
       "aggSeriesLimitReached": false,
       "aggType": "",
       "arguments": {},
       "columnCustomDisplayInfos": {},
       "data": [
        [
         1.0,
         3.5,
         2.0,
         8.0,
         5.0,
         0.0,
         3.0,
         25.0
        ],
        [
         2.0,
         1.5,
         1.0,
         10.0,
         2.0,
         1.0,
         2.0,
         15.0
        ],
        [
         3.0,
         4.5,
         3.0,
         6.0,
         8.0,
         2.0,
         4.0,
         20.0
        ]
       ],
       "datasetInfos": [],
       "dbfsResultPath": null,
       "isJsonSchema": true,
       "metadata": {},
       "overflow": false,
       "plotOptions": {
        "customPlotOptions": {},
        "displayType": "table",
        "pivotAggregation": null,
        "pivotColumns": null,
        "xColumns": null,
        "yColumns": null
       },
       "removedWidgets": [],
       "schema": [
        {
         "metadata": "{}",
         "name": "Shift_Type",
         "type": "\"double\""
        },
        {
         "metadata": "{}",
         "name": "Weather_Risk_Index",
         "type": "\"double\""
        },
        {
         "metadata": "{}",
         "name": "Job_Risk_Level",
         "type": "\"double\""
        },
        {
         "metadata": "{}",
         "name": "Hours_Worked",
         "type": "\"double\""
        },
        {
         "metadata": "{}",
         "name": "Employee_Experience_Years",
         "type": "\"double\""
        },
        {
         "metadata": "{}",
         "name": "Safety_Violations",
         "type": "\"double\""
        },
        {
         "metadata": "{}",
         "name": "Inspection_Frequency",
         "type": "\"double\""
        },
        {
         "metadata": "{}",
         "name": "Temperature_C",
         "type": "\"double\""
        }
       ],
       "type": "table"
      }
     },
     "output_type": "display_data"
    },
    {
     "output_type": "stream",
     "name": "stdout",
     "output_type": "stream",
     "text": [
      "Predicciones:\n"
     ]
    },
    {
     "output_type": "display_data",
     "data": {
      "text/html": [
       "<style scoped>\n",
       "  .table-result-container {\n",
       "    max-height: 300px;\n",
       "    overflow: auto;\n",
       "  }\n",
       "  table, th, td {\n",
       "    border: 1px solid black;\n",
       "    border-collapse: collapse;\n",
       "  }\n",
       "  th, td {\n",
       "    padding: 5px;\n",
       "  }\n",
       "  th {\n",
       "    text-align: left;\n",
       "  }\n",
       "</style><div class='table-result-container'><table class='table-result'><thead style='background-color: white'><tr><th>Shift_Type</th><th>Weather_Risk_Index</th><th>Job_Risk_Level</th><th>Hours_Worked</th><th>Employee_Experience_Years</th><th>Safety_Violations</th><th>Inspection_Frequency</th><th>Temperature_C</th><th>rawFeatures</th><th>scaledFeatures</th><th>rawPrediction</th><th>probability</th><th>prediction</th></tr></thead><tbody><tr><td>1.0</td><td>3.5</td><td>2.0</td><td>8.0</td><td>5.0</td><td>0.0</td><td>3.0</td><td>25.0</td><td>Map(vectorType -> dense, length -> 8, values -> List(1.0, 3.5, 2.0, 8.0, 5.0, 0.0, 3.0, 25.0))</td><td>Map(vectorType -> dense, length -> 8, values -> List(2.1993108575882223, 12.100088611306038, 2.9664884030516085, 4.706502809339085, 0.5792997150322952, 0.0, 0.953370798972236, 2.8949151637859534))</td><td>Map(vectorType -> dense, length -> 2, values -> List(0.0, 50.0))</td><td>Map(vectorType -> dense, length -> 2, values -> List(0.0, 1.0))</td><td>1.0</td></tr><tr><td>2.0</td><td>1.5</td><td>1.0</td><td>10.0</td><td>2.0</td><td>1.0</td><td>2.0</td><td>15.0</td><td>Map(vectorType -> dense, length -> 8, values -> List(2.0, 1.5, 1.0, 10.0, 2.0, 1.0, 2.0, 15.0))</td><td>Map(vectorType -> dense, length -> 8, values -> List(4.398621715176445, 5.185752261988302, 1.4832442015258043, 5.883128511673856, 0.23171988601291807, 0.34762533202385265, 0.6355805326481573, 1.736949098271572))</td><td>Map(vectorType -> dense, length -> 2, values -> List(0.0, 50.0))</td><td>Map(vectorType -> dense, length -> 2, values -> List(0.0, 1.0))</td><td>1.0</td></tr><tr><td>3.0</td><td>4.5</td><td>3.0</td><td>6.0</td><td>8.0</td><td>2.0</td><td>4.0</td><td>20.0</td><td>Map(vectorType -> dense, length -> 8, values -> List(3.0, 4.5, 3.0, 6.0, 8.0, 2.0, 4.0, 20.0))</td><td>Map(vectorType -> dense, length -> 8, values -> List(6.597932572764667, 15.557256785964906, 4.449732604577413, 3.529877107004314, 0.9268795440516723, 0.6952506640477053, 1.2711610652963146, 2.315932131028763))</td><td>Map(vectorType -> dense, length -> 2, values -> List(0.0, 50.0))</td><td>Map(vectorType -> dense, length -> 2, values -> List(0.0, 1.0))</td><td>1.0</td></tr></tbody></table></div>"
      ]
     },
     "metadata": {
      "application/vnd.databricks.v1+output": {
       "addedWidgets": {},
       "aggData": [],
       "aggError": "",
       "aggOverflow": false,
       "aggSchema": [],
       "aggSeriesLimitReached": false,
       "aggType": "",
       "arguments": {},
       "columnCustomDisplayInfos": {},
       "data": [
        [
         1.0,
         3.5,
         2.0,
         8.0,
         5.0,
         0.0,
         3.0,
         25.0,
         {
          "length": 8,
          "values": [
           1.0,
           3.5,
           2.0,
           8.0,
           5.0,
           0.0,
           3.0,
           25.0
          ],
          "vectorType": "dense"
         },
         {
          "length": 8,
          "values": [
           2.1993108575882223,
           12.100088611306038,
           2.9664884030516085,
           4.706502809339085,
           0.5792997150322952,
           0.0,
           0.953370798972236,
           2.8949151637859534
          ],
          "vectorType": "dense"
         },
         {
          "length": 2,
          "values": [
           0.0,
           50.0
          ],
          "vectorType": "dense"
         },
         {
          "length": 2,
          "values": [
           0.0,
           1.0
          ],
          "vectorType": "dense"
         },
         1.0
        ],
        [
         2.0,
         1.5,
         1.0,
         10.0,
         2.0,
         1.0,
         2.0,
         15.0,
         {
          "length": 8,
          "values": [
           2.0,
           1.5,
           1.0,
           10.0,
           2.0,
           1.0,
           2.0,
           15.0
          ],
          "vectorType": "dense"
         },
         {
          "length": 8,
          "values": [
           4.398621715176445,
           5.185752261988302,
           1.4832442015258043,
           5.883128511673856,
           0.23171988601291807,
           0.34762533202385265,
           0.6355805326481573,
           1.736949098271572
          ],
          "vectorType": "dense"
         },
         {
          "length": 2,
          "values": [
           0.0,
           50.0
          ],
          "vectorType": "dense"
         },
         {
          "length": 2,
          "values": [
           0.0,
           1.0
          ],
          "vectorType": "dense"
         },
         1.0
        ],
        [
         3.0,
         4.5,
         3.0,
         6.0,
         8.0,
         2.0,
         4.0,
         20.0,
         {
          "length": 8,
          "values": [
           3.0,
           4.5,
           3.0,
           6.0,
           8.0,
           2.0,
           4.0,
           20.0
          ],
          "vectorType": "dense"
         },
         {
          "length": 8,
          "values": [
           6.597932572764667,
           15.557256785964906,
           4.449732604577413,
           3.529877107004314,
           0.9268795440516723,
           0.6952506640477053,
           1.2711610652963146,
           2.315932131028763
          ],
          "vectorType": "dense"
         },
         {
          "length": 2,
          "values": [
           0.0,
           50.0
          ],
          "vectorType": "dense"
         },
         {
          "length": 2,
          "values": [
           0.0,
           1.0
          ],
          "vectorType": "dense"
         },
         1.0
        ]
       ],
       "datasetInfos": [],
       "dbfsResultPath": null,
       "isJsonSchema": true,
       "metadata": {},
       "overflow": false,
       "plotOptions": {
        "customPlotOptions": {},
        "displayType": "table",
        "pivotAggregation": null,
        "pivotColumns": null,
        "xColumns": null,
        "yColumns": null
       },
       "removedWidgets": [],
       "schema": [
        {
         "metadata": "{}",
         "name": "Shift_Type",
         "type": "\"double\""
        },
        {
         "metadata": "{}",
         "name": "Weather_Risk_Index",
         "type": "\"double\""
        },
        {
         "metadata": "{}",
         "name": "Job_Risk_Level",
         "type": "\"double\""
        },
        {
         "metadata": "{}",
         "name": "Hours_Worked",
         "type": "\"double\""
        },
        {
         "metadata": "{}",
         "name": "Employee_Experience_Years",
         "type": "\"double\""
        },
        {
         "metadata": "{}",
         "name": "Safety_Violations",
         "type": "\"double\""
        },
        {
         "metadata": "{}",
         "name": "Inspection_Frequency",
         "type": "\"double\""
        },
        {
         "metadata": "{}",
         "name": "Temperature_C",
         "type": "\"double\""
        },
        {
         "metadata": "{\"ml_attr\":{\"attrs\":{\"numeric\":[{\"idx\":0,\"name\":\"Shift_Type\"},{\"idx\":1,\"name\":\"Weather_Risk_Index\"},{\"idx\":2,\"name\":\"Job_Risk_Level\"},{\"idx\":3,\"name\":\"Hours_Worked\"},{\"idx\":4,\"name\":\"Employee_Experience_Years\"},{\"idx\":5,\"name\":\"Safety_Violations\"},{\"idx\":6,\"name\":\"Inspection_Frequency\"},{\"idx\":7,\"name\":\"Temperature_C\"}]},\"num_attrs\":8}}",
         "name": "rawFeatures",
         "type": "{\"type\":\"udt\",\"class\":\"org.apache.spark.ml.linalg.VectorUDT\",\"pyClass\":\"pyspark.ml.linalg.VectorUDT\",\"sqlType\":{\"type\":\"struct\",\"fields\":[{\"name\":\"type\",\"type\":\"byte\",\"nullable\":false,\"metadata\":{}},{\"name\":\"size\",\"type\":\"integer\",\"nullable\":true,\"metadata\":{}},{\"name\":\"indices\",\"type\":{\"type\":\"array\",\"elementType\":\"integer\",\"containsNull\":false},\"nullable\":true,\"metadata\":{}},{\"name\":\"values\",\"type\":{\"type\":\"array\",\"elementType\":\"double\",\"containsNull\":false},\"nullable\":true,\"metadata\":{}}]}}"
        },
        {
         "metadata": "{\"ml_attr\":{\"num_attrs\":8}}",
         "name": "scaledFeatures",
         "type": "{\"type\":\"udt\",\"class\":\"org.apache.spark.ml.linalg.VectorUDT\",\"pyClass\":\"pyspark.ml.linalg.VectorUDT\",\"sqlType\":{\"type\":\"struct\",\"fields\":[{\"name\":\"type\",\"type\":\"byte\",\"nullable\":false,\"metadata\":{}},{\"name\":\"size\",\"type\":\"integer\",\"nullable\":true,\"metadata\":{}},{\"name\":\"indices\",\"type\":{\"type\":\"array\",\"elementType\":\"integer\",\"containsNull\":false},\"nullable\":true,\"metadata\":{}},{\"name\":\"values\",\"type\":{\"type\":\"array\",\"elementType\":\"double\",\"containsNull\":false},\"nullable\":true,\"metadata\":{}}]}}"
        },
        {
         "metadata": "{\"ml_attr\":{\"num_attrs\":2}}",
         "name": "rawPrediction",
         "type": "{\"type\":\"udt\",\"class\":\"org.apache.spark.ml.linalg.VectorUDT\",\"pyClass\":\"pyspark.ml.linalg.VectorUDT\",\"sqlType\":{\"type\":\"struct\",\"fields\":[{\"name\":\"type\",\"type\":\"byte\",\"nullable\":false,\"metadata\":{}},{\"name\":\"size\",\"type\":\"integer\",\"nullable\":true,\"metadata\":{}},{\"name\":\"indices\",\"type\":{\"type\":\"array\",\"elementType\":\"integer\",\"containsNull\":false},\"nullable\":true,\"metadata\":{}},{\"name\":\"values\",\"type\":{\"type\":\"array\",\"elementType\":\"double\",\"containsNull\":false},\"nullable\":true,\"metadata\":{}}]}}"
        },
        {
         "metadata": "{\"ml_attr\":{\"num_attrs\":2}}",
         "name": "probability",
         "type": "{\"type\":\"udt\",\"class\":\"org.apache.spark.ml.linalg.VectorUDT\",\"pyClass\":\"pyspark.ml.linalg.VectorUDT\",\"sqlType\":{\"type\":\"struct\",\"fields\":[{\"name\":\"type\",\"type\":\"byte\",\"nullable\":false,\"metadata\":{}},{\"name\":\"size\",\"type\":\"integer\",\"nullable\":true,\"metadata\":{}},{\"name\":\"indices\",\"type\":{\"type\":\"array\",\"elementType\":\"integer\",\"containsNull\":false},\"nullable\":true,\"metadata\":{}},{\"name\":\"values\",\"type\":{\"type\":\"array\",\"elementType\":\"double\",\"containsNull\":false},\"nullable\":true,\"metadata\":{}}]}}"
        },
        {
         "metadata": "{\"ml_attr\":{\"type\":\"nominal\",\"num_vals\":2}}",
         "name": "prediction",
         "type": "\"double\""
        }
       ],
       "type": "table"
      }
     },
     "output_type": "display_data"
    }
   ],
   "source": [
    "# Paso 3: Probar inferencia local con Spark DataFrame\n",
    "\n",
    "# Construimos un dataframe Spark con columnas:\n",
    "# Shift_Type, Weather_Risk_Index, Job_Risk_Level, Hours_Worked,\n",
    "# Employee_Experience_Years, Safety_Violations, Inspection_Frequency, Temperature_C\n",
    "\n",
    "data_sample = [\n",
    "    (1.0, 3.5, 2.0, 8.0, 5.0, 0.0, 3.0, 25.0),\n",
    "    (2.0, 1.5, 1.0, 10.0, 2.0, 1.0, 2.0, 15.0),\n",
    "    (3.0, 4.5, 3.0, 6.0,  8.0, 2.0, 4.0, 20.0)\n",
    "]\n",
    "\n",
    "columns_list = [\n",
    "    \"Shift_Type\", \n",
    "    \"Weather_Risk_Index\", \n",
    "    \"Job_Risk_Level\", \n",
    "    \"Hours_Worked\",\n",
    "    \"Employee_Experience_Years\", \n",
    "    \"Safety_Violations\", \n",
    "    \"Inspection_Frequency\", \n",
    "    \"Temperature_C\"\n",
    "]\n",
    "\n",
    "df_test_local = spark.createDataFrame(data_sample, columns_list)\n",
    "\n",
    "print(\"DataFrame de prueba local:\")\n",
    "display(df_test_local)\n",
    "\n",
    "# Usar pipeline_model.transform() para hacer inferencia\n",
    "df_pred = pipeline_model.transform(df_test_local)\n",
    "\n",
    "print(\"Predicciones:\")\n",
    "display(df_pred)\n"
   ]
  }
 ],
 "metadata": {
  "application/vnd.databricks.v1+notebook": {
   "computePreferences": null,
   "dashboards": [],
   "environmentMetadata": {
    "base_environment": "",
    "environment_version": "2"
   },
   "language": "python",
   "notebookMetadata": {
    "pythonIndentUnit": 4
   },
   "notebookName": "04_Despliegue_Mining_Model",
   "widgets": {}
  },
  "language_info": {
   "name": "python"
  }
 },
 "nbformat": 4,
 "nbformat_minor": 0
}
