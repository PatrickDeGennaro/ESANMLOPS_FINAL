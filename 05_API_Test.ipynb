{
 "cells": [
  {
   "cell_type": "markdown",
   "metadata": {
    "application/vnd.databricks.v1+cell": {
     "cellMetadata": {},
     "inputWidgets": {},
     "nuid": "1e78af0f-4ace-466f-8117-eca2f6443d7c",
     "showTitle": false,
     "tableResultSettingsMap": {},
     "title": ""
    }
   },
   "source": [
    "###  Pruebas de API para el Modelo de Predicción de Accidentes en Minería\n",
    "\n",
    "Este notebook forma parte del trabajo final del curso de MLOps  y está diseñado para probar el modelo de Machine Learning a través de su API en **Databricks Model Serving**.\n",
    "\n",
    "El objetivo es verificar que el modelo responde correctamente a solicitudes de predicción mediante llamadas HTTP a la API.  \n",
    "Las pruebas incluyen:\n",
    "\n",
    "- **Carga de la API y autenticación** con un token de acceso.\n",
    "- **Prueba de inferencia con una sola fila de datos** para validar respuestas individuales.\n",
    "- **Prueba con múltiples filas** para evaluar el rendimiento con varias predicciones simultáneas.\n",
    "- **Medición del tiempo de respuesta** para analizar la eficiencia del servicio.\n",
    "\n",
    "Estas pruebas son fundamentales dentro de **MLOps**, ya que aseguran que el modelo puede integrarse correctamente con aplicaciones externas y responder eficientemente a solicitudes en tiempo real.\n",
    "\n",
    "<style>\n",
    "    p { text-align: justify; }\n",
    "</style>\n"
   ]
  },
  {
   "cell_type": "markdown",
   "metadata": {
    "application/vnd.databricks.v1+cell": {
     "cellMetadata": {},
     "inputWidgets": {},
     "nuid": "e6bf3e80-a8f8-484d-95de-9a105b2cd703",
     "showTitle": false,
     "tableResultSettingsMap": {},
     "title": ""
    }
   },
   "source": [
    "### 1. Importación de librerías y configuración del entorno\n",
    "Se importan las librerías necesarias para realizar pruebas de inferencia a través de la API del modelo desplegado en Databricks Model Serving.\n",
    "Esto permitirá evaluar si el modelo responde correctamente en un entorno de producción.\n"
   ]
  },
  {
   "cell_type": "code",
   "execution_count": 0,
   "metadata": {
    "application/vnd.databricks.v1+cell": {
     "cellMetadata": {
      "byteLimit": 2048000,
      "rowLimit": 10000
     },
     "inputWidgets": {},
     "nuid": "27593526-c360-4cb4-acc3-78c69c8e1ae8",
     "showTitle": false,
     "tableResultSettingsMap": {},
     "title": ""
    }
   },
   "outputs": [
    {
     "output_type": "stream",
     "name": "stdout",
     "output_type": "stream",
     "text": [
      "Notebook 05 (API_Test) - Iniciando...\n"
     ]
    }
   ],
   "source": [
    "# Paso 1: Importar librerías\n",
    "import requests\n",
    "import json\n",
    "import time\n",
    "import pandas as pd\n",
    "\n",
    "print(\"Notebook 05 (API_Test) - Iniciando...\")\n"
   ]
  },
  {
   "cell_type": "markdown",
   "metadata": {
    "application/vnd.databricks.v1+cell": {
     "cellMetadata": {},
     "inputWidgets": {},
     "nuid": "1d70449b-8c75-4c54-b75d-5c3fbea7ef23",
     "showTitle": false,
     "tableResultSettingsMap": {},
     "title": ""
    }
   },
   "source": [
    "### 2. Configuración del endpoint de la API y autenticación\n",
    "Se define la URL de la API donde se encuentra el modelo en Databricks y se configura el token de autenticación. Este token es necesario para autorizar las solicitudes y acceder al servicio de inferencia."
   ]
  },
  {
   "cell_type": "code",
   "execution_count": 0,
   "metadata": {
    "application/vnd.databricks.v1+cell": {
     "cellMetadata": {
      "byteLimit": 2048000,
      "rowLimit": 10000
     },
     "inputWidgets": {},
     "nuid": "a4e83d13-7503-40aa-841d-cee76a1cdf56",
     "showTitle": false,
     "tableResultSettingsMap": {},
     "title": ""
    }
   },
   "outputs": [
    {
     "output_type": "stream",
     "name": "stdout",
     "output_type": "stream",
     "text": [
      "API_URL = https://adb-1781258311325241.1.azuredatabricks.net/serving-endpoints/accidentprediction2025-endpoint/invocations\n"
     ]
    }
   ],
   "source": [
    "# Paso 2: Configurar endpoint y token\n",
    "\n",
    "API_URL = \"https://adb-1781258311325241.1.azuredatabricks.net/serving-endpoints/accidentprediction2025-endpoint/invocations\"\n",
    "DATABRICKS_TOKEN = \"********************\" \n",
    "\n",
    "headers = {\n",
    "    \"Authorization\": f\"Bearer {DATABRICKS_TOKEN}\",\n",
    "    \"Content-Type\": \"application/json\"\n",
    "}\n",
    "\n",
    "print(\"API_URL =\", API_URL)\n"
   ]
  },
  {
   "cell_type": "markdown",
   "metadata": {
    "application/vnd.databricks.v1+cell": {
     "cellMetadata": {},
     "inputWidgets": {},
     "nuid": "4a50dee1-efca-4390-8d1a-6170aae94775",
     "showTitle": false,
     "tableResultSettingsMap": {},
     "title": ""
    }
   },
   "source": [
    "### 3. Prueba de inferencia con una sola fila de datos\n",
    "Se envía una sola instancia de prueba a la API para verificar que el modelo responde correctamente. Se mide el tiempo de respuesta y se valida si la predicción se obtiene sin errores.\n"
   ]
  },
  {
   "cell_type": "code",
   "execution_count": 0,
   "metadata": {
    "application/vnd.databricks.v1+cell": {
     "cellMetadata": {
      "byteLimit": 2048000,
      "rowLimit": 10000
     },
     "inputWidgets": {},
     "nuid": "20162780-64fb-497c-8a9d-4d31aa82665b",
     "showTitle": false,
     "tableResultSettingsMap": {},
     "title": ""
    }
   },
   "outputs": [
    {
     "output_type": "stream",
     "name": "stdout",
     "output_type": "stream",
     "text": [
      "✅ API Respondió correctamente (single).\nPredicción (single): {'predictions': [1.0]}\n⏱ Tiempo de respuesta: 1.54 segundos\n"
     ]
    }
   ],
   "source": [
    "# Paso 3: Enviar datos de prueba a la API\n",
    "\n",
    "sample_data_single = {\n",
    "    \"dataframe_split\": {\n",
    "        \"columns\": [\n",
    "            \"Shift_Type\", \n",
    "            \"Weather_Risk_Index\", \n",
    "            \"Job_Risk_Level\", \n",
    "            \"Hours_Worked\",\n",
    "            \"Employee_Experience_Years\", \n",
    "            \"Safety_Violations\", \n",
    "            \"Inspection_Frequency\", \n",
    "            \"Temperature_C\"\n",
    "        ],\n",
    "        \"data\": [\n",
    "            [1.0, 3.5, 2.0, 8.0, 5.0, 0.0, 3.0, 25.0]\n",
    "        ]\n",
    "    }\n",
    "}\n",
    "\n",
    "try:\n",
    "    start_time = time.time()\n",
    "    response = requests.post(API_URL, headers=headers, json=sample_data_single)\n",
    "    response_time = time.time() - start_time\n",
    "\n",
    "    if response.status_code == 200:\n",
    "        print(\"✅ API Respondió correctamente (single).\")\n",
    "        print(\"Predicción (single):\", response.json())\n",
    "    else:\n",
    "        print(\"❌ Error en la respuesta (single):\", response.status_code, response.text)\n",
    "\n",
    "    print(f\"⏱ Tiempo de respuesta: {response_time:.2f} segundos\")\n",
    "\n",
    "except Exception as e:\n",
    "    print(\"🚨 Error al conectar con la API (single):\", str(e))\n"
   ]
  },
  {
   "cell_type": "markdown",
   "metadata": {
    "application/vnd.databricks.v1+cell": {
     "cellMetadata": {},
     "inputWidgets": {},
     "nuid": "d8be0838-3f86-4c78-9b24-4cfa3dc54e87",
     "showTitle": false,
     "tableResultSettingsMap": {},
     "title": ""
    }
   },
   "source": [
    "### 4. Prueba de inferencia con múltiples filas de datos\n",
    "Se prueba la API con varias instancias al mismo tiempo para evaluar la capacidad del modelo de procesar múltiples solicitudes en paralelo.\n",
    "Esto es útil para verificar el rendimiento del modelo en escenarios reales con grandes volúmenes de datos."
   ]
  },
  {
   "cell_type": "code",
   "execution_count": 0,
   "metadata": {
    "application/vnd.databricks.v1+cell": {
     "cellMetadata": {
      "byteLimit": 2048000,
      "rowLimit": 10000
     },
     "inputWidgets": {},
     "nuid": "a1028629-9ad5-4852-b47b-75aebc143349",
     "showTitle": false,
     "tableResultSettingsMap": {},
     "title": ""
    }
   },
   "outputs": [
    {
     "output_type": "stream",
     "name": "stdout",
     "output_type": "stream",
     "text": [
      "✅ API Respondió correctamente (multi).\nPredicciones (multi): {'predictions': [1.0, 1.0, 1.0]}\n⏱ Tiempo de respuesta: 0.95 segundos\n"
     ]
    }
   ],
   "source": [
    "# Paso 4: Varias filas de test\n",
    "sample_data_multi = {\n",
    "    \"dataframe_split\": {\n",
    "        \"columns\": [\n",
    "            \"Shift_Type\", \n",
    "            \"Weather_Risk_Index\", \n",
    "            \"Job_Risk_Level\", \n",
    "            \"Hours_Worked\",\n",
    "            \"Employee_Experience_Years\", \n",
    "            \"Safety_Violations\", \n",
    "            \"Inspection_Frequency\", \n",
    "            \"Temperature_C\"\n",
    "        ],\n",
    "        \"data\": [\n",
    "            [2.0, 1.5, 1.0, 10.0, 2.0, 1.0, 2.0, 15.0],\n",
    "            [3.0, 4.5, 3.0, 6.0,  8.0, 2.0, 4.0, 20.0],\n",
    "            [1.0, 2.5, 2.0, 7.0,  3.0, 0.0, 4.0, 22.0]\n",
    "        ]\n",
    "    }\n",
    "}\n",
    "\n",
    "try:\n",
    "    start_time = time.time()\n",
    "    response = requests.post(API_URL, headers=headers, json=sample_data_multi)\n",
    "    response_time = time.time() - start_time\n",
    "\n",
    "    if response.status_code == 200:\n",
    "        print(\"✅ API Respondió correctamente (multi).\")\n",
    "        preds_multi = response.json()\n",
    "        print(\"Predicciones (multi):\", preds_multi)\n",
    "    else:\n",
    "        print(\"❌ Error en la respuesta (multi):\", response.status_code, response.text)\n",
    "\n",
    "    print(f\"⏱ Tiempo de respuesta: {response_time:.2f} segundos\")\n",
    "\n",
    "except Exception as e:\n",
    "    print(\"🚨 Error al conectar con la API (multi):\", str(e))\n"
   ]
  }
 ],
 "metadata": {
  "application/vnd.databricks.v1+notebook": {
   "computePreferences": null,
   "dashboards": [],
   "environmentMetadata": {
    "base_environment": "",
    "environment_version": "2"
   },
   "language": "python",
   "notebookMetadata": {
    "pythonIndentUnit": 4
   },
   "notebookName": "05_API_Test",
   "widgets": {}
  },
  "language_info": {
   "name": "python"
  }
 },
 "nbformat": 4,
 "nbformat_minor": 0
}
